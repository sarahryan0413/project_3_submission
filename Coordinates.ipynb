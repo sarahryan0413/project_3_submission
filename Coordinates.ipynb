{
 "cells": [
  {
   "cell_type": "code",
   "execution_count": 1,
   "id": "adbf69dc-062d-4fd8-9769-cb8993531940",
   "metadata": {},
   "outputs": [],
   "source": [
    "# Import dependencies\n",
    "import pandas as pd\n",
    "from geopy.geocoders import Nominatim\n",
    "from geopy.extra.rate_limiter import RateLimiter\n",
    "from requests.exceptions import ConnectionError, Timeout\n",
    "import time"
   ]
  },
  {
   "cell_type": "code",
   "execution_count": 2,
   "id": "dc6f8bb4-70a6-4810-80ca-c4f594150b54",
   "metadata": {},
   "outputs": [],
   "source": [
    "# Load CSV file\n",
    "df = pd.read_csv('data/small_dataset.csv')"
   ]
  },
  {
   "cell_type": "code",
   "execution_count": 3,
   "id": "aca9cecf-556e-423a-a1a0-e0ba8bda9a91",
   "metadata": {},
   "outputs": [],
   "source": [
    "# Set up geolocator\n",
    "geolocator = Nominatim(user_agent=\"ufo-sightings\")"
   ]
  },
  {
   "cell_type": "code",
   "execution_count": 4,
   "id": "6c081a70-57b1-485d-a79d-e5ba1a90ba24",
   "metadata": {},
   "outputs": [],
   "source": [
    "# Define the geocoding function with a timeout\n",
    "def geocode_with_timeout(location): \n",
    "    return geolocator.geocode(location, timeout=10)"
   ]
  },
  {
   "cell_type": "code",
   "execution_count": 5,
   "id": "cd132247-0a11-433d-9483-2b4e3188d6e8",
   "metadata": {},
   "outputs": [],
   "source": [
    "# Wrap it with a rate limiter to avoid API limits\n",
    "geocode = RateLimiter(geocode_with_timeout, min_delay_seconds=1)"
   ]
  },
  {
   "cell_type": "code",
   "execution_count": 6,
   "id": "2779cb3c-1d1f-4fd4-8f14-b44d8ab19764",
   "metadata": {},
   "outputs": [],
   "source": [
    "# Create a location string with City, State, Country\n",
    "df[\"location\"] = df[[\"City\", \"State Province\", \"Country\"]].fillna(\"\").agg(\", \".join, axis=1)\n"
   ]
  },
  {
   "cell_type": "code",
   "execution_count": 7,
   "id": "fde13f85-29b1-45e4-a5cb-8a375c83e38b",
   "metadata": {},
   "outputs": [
    {
     "name": "stdout",
     "output_type": "stream",
     "text": [
      "✅ Done geocoding!\n"
     ]
    }
   ],
   "source": [
    "# Define a function with error handling\n",
    "def safe_geocode(location):\n",
    "    try:\n",
    "        result = geocode(location)\n",
    "        if result:\n",
    "            return pd.Series([result.latitude, result.longitude])\n",
    "    except ConnectionError:\n",
    "        print(\"🔌 Connection error. Retrying in 5 seconds...\")\n",
    "        time.sleep(5)\n",
    "        return pd.Series([None, None])\n",
    "    except Timeout:\n",
    "        print(\"⏳ Timeout. Skipping...\")\n",
    "        return pd.Series([None, None])\n",
    "    except Exception as e:\n",
    "        print(f\"❌ Error for {location}: {e}\")\n",
    "        return pd.Series([None, None])\n",
    "    return pd.Series([None, None])\n",
    "\n",
    "# Apply geocoding to the dataset\n",
    "df[[\"latitude\", \"longitude\"]] = df[\"location\"].apply(safe_geocode)\n",
    "print(\"✅ Done geocoding!\")"
   ]
  },
  {
   "cell_type": "code",
   "execution_count": 8,
   "id": "d23c93ff-1377-4475-b548-04f3bd428a1b",
   "metadata": {},
   "outputs": [],
   "source": [
    "# Save results to a CSV file\n",
    "df.to_csv(\"data/small_dataset_with_coords.csv\", index=False)"
   ]
  },
  {
   "cell_type": "code",
   "execution_count": 14,
   "id": "191c3d71-6060-4f06-a124-7307ce7a0032",
   "metadata": {},
   "outputs": [
    {
     "data": {
      "text/html": [
       "<div>\n",
       "<style scoped>\n",
       "    .dataframe tbody tr th:only-of-type {\n",
       "        vertical-align: middle;\n",
       "    }\n",
       "\n",
       "    .dataframe tbody tr th {\n",
       "        vertical-align: top;\n",
       "    }\n",
       "\n",
       "    .dataframe thead th {\n",
       "        text-align: right;\n",
       "    }\n",
       "</style>\n",
       "<table border=\"1\" class=\"dataframe\">\n",
       "  <thead>\n",
       "    <tr style=\"text-align: right;\">\n",
       "      <th></th>\n",
       "      <th>latitude</th>\n",
       "      <th>longitude</th>\n",
       "    </tr>\n",
       "  </thead>\n",
       "  <tbody>\n",
       "    <tr>\n",
       "      <th>0</th>\n",
       "      <td>26.271192</td>\n",
       "      <td>-80.270604</td>\n",
       "    </tr>\n",
       "    <tr>\n",
       "      <th>1</th>\n",
       "      <td>38.870842</td>\n",
       "      <td>-94.173834</td>\n",
       "    </tr>\n",
       "    <tr>\n",
       "      <th>2</th>\n",
       "      <td>26.461462</td>\n",
       "      <td>-80.072820</td>\n",
       "    </tr>\n",
       "    <tr>\n",
       "      <th>3</th>\n",
       "      <td>53.450869</td>\n",
       "      <td>-2.078260</td>\n",
       "    </tr>\n",
       "    <tr>\n",
       "      <th>4</th>\n",
       "      <td>54.702354</td>\n",
       "      <td>-3.276575</td>\n",
       "    </tr>\n",
       "    <tr>\n",
       "      <th>...</th>\n",
       "      <td>...</td>\n",
       "      <td>...</td>\n",
       "    </tr>\n",
       "    <tr>\n",
       "      <th>95</th>\n",
       "      <td>43.616616</td>\n",
       "      <td>-116.200886</td>\n",
       "    </tr>\n",
       "    <tr>\n",
       "      <th>96</th>\n",
       "      <td>43.132950</td>\n",
       "      <td>-115.691197</td>\n",
       "    </tr>\n",
       "    <tr>\n",
       "      <th>97</th>\n",
       "      <td>50.877524</td>\n",
       "      <td>5.981507</td>\n",
       "    </tr>\n",
       "    <tr>\n",
       "      <th>98</th>\n",
       "      <td>50.905669</td>\n",
       "      <td>5.068392</td>\n",
       "    </tr>\n",
       "    <tr>\n",
       "      <th>99</th>\n",
       "      <td>50.685073</td>\n",
       "      <td>-3.465806</td>\n",
       "    </tr>\n",
       "  </tbody>\n",
       "</table>\n",
       "<p>100 rows × 2 columns</p>\n",
       "</div>"
      ],
      "text/plain": [
       "     latitude   longitude\n",
       "0   26.271192  -80.270604\n",
       "1   38.870842  -94.173834\n",
       "2   26.461462  -80.072820\n",
       "3   53.450869   -2.078260\n",
       "4   54.702354   -3.276575\n",
       "..        ...         ...\n",
       "95  43.616616 -116.200886\n",
       "96  43.132950 -115.691197\n",
       "97  50.877524    5.981507\n",
       "98  50.905669    5.068392\n",
       "99  50.685073   -3.465806\n",
       "\n",
       "[100 rows x 2 columns]"
      ]
     },
     "execution_count": 14,
     "metadata": {},
     "output_type": "execute_result"
    }
   ],
   "source": [
    "#Display data has coordinates\n",
    "df[['latitude','longitude']]\n"
   ]
  },
  {
   "cell_type": "code",
   "execution_count": null,
   "id": "e237d40e-9def-42b5-b425-e2c5035cdfc2",
   "metadata": {},
   "outputs": [],
   "source": []
  }
 ],
 "metadata": {
  "kernelspec": {
   "display_name": "Python 3 (ipykernel)",
   "language": "python",
   "name": "python3"
  },
  "language_info": {
   "codemirror_mode": {
    "name": "ipython",
    "version": 3
   },
   "file_extension": ".py",
   "mimetype": "text/x-python",
   "name": "python",
   "nbconvert_exporter": "python",
   "pygments_lexer": "ipython3",
   "version": "3.10.16"
  }
 },
 "nbformat": 4,
 "nbformat_minor": 5
}
